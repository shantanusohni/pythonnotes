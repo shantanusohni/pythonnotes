{
 "cells": [
  {
   "cell_type": "code",
   "execution_count": 38,
   "metadata": {},
   "outputs": [
    {
     "name": "stdout",
     "output_type": "stream",
     "text": [
      "101.111.201.10 2\n",
      "101.111.201.11 1\n",
      "101.111.201.12 2\n",
      "101.111.26.87 1\n",
      "101.111.21.65 1\n",
      "101.111.21.12 1\n",
      "101.111.22.1 1\n",
      "101.111.201.120 1\n"
     ]
    }
   ],
   "source": [
    "filepath = '/Users/jatinmiglani/Dropbox/8th Sep Ethans PS/Day 14/weblog.log'\n",
    "\n",
    "ip_count = dict()\n",
    "with open(filepath, 'r') as log:\n",
    "    for line in log:\n",
    "        line = line.strip()\n",
    "        all_ip = re.finditer('(\\d+)\\.(\\d+)\\.(\\d+)\\.(\\d+)', line)\n",
    "        for match in all_ip:\n",
    "            invalid = 0\n",
    "            for ind_ip in match.groups():\n",
    "                if int(ind_ip) >= 0 and int(ind_ip) <= 255:\n",
    "                    pass\n",
    "                else:\n",
    "                    invalid = 1\n",
    "            if invalid == 0:\n",
    "                ip = match.group()\n",
    "\n",
    "                if  ip in ip_count:\n",
    "                    ip_count[ip] += 1\n",
    "                else:\n",
    "                    ip_count[ip] = 1\n",
    "\n",
    "for ip, count in ip_count.items():\n",
    "    print(ip, count)"
   ]
  },
  {
   "cell_type": "markdown",
   "metadata": {},
   "source": [
    "# Wild Card Characters\n",
    "\n",
    ". : dot or period (it match anything except \\n)\n",
    "\\ : backslash - it hide/supress special meaning of wildcard\n",
    "[]: Character class\n",
    "[^]: Negate character class\n",
    "^ - start of the string\n",
    "$ - end of the string\n",
    "\\b - broad match\n",
    "{n, m} - it should match minimum n occ and max m occ\n",
    "{0,1} - Shortcut i.e. ?\n",
    "{0,} - Shortcut i.e. *\n",
    "{1,} - Shortcut i.e. +\n",
    "[a-zA-Z0-9_] - \\w\n",
    "[0-9] - \\d\n",
    "[ \\t\\n] - \\s\n",
    "\n",
    "All wildcard are greedy in nature\n",
    "\n",
    "example:\n",
    "a.b - a followed by anything followed by b\n",
    "a..b - a followed by anything followed by anything followed by b\n",
    "[abc] - anything from a or b or c\n",
    "[a-z] - anything from a to z\n",
    "[0-9] - anything from 0 to 9\n",
    "[a-z0-9A-Z] - anything from a - z , 0-9 or A-Z\n",
    "[^a-z] - \n",
    "^ab\n",
    "ing$\n",
    "^abc$\n",
    "\\bis\n",
    "is\\b\n",
    "[0-9]{1,3}\n",
    "\n",
    "'\\bis\\b' 'is my string'"
   ]
  },
  {
   "cell_type": "code",
   "execution_count": 33,
   "metadata": {},
   "outputs": [
    {
     "name": "stdout",
     "output_type": "stream",
     "text": [
      "invalid\n"
     ]
    }
   ],
   "source": [
    "import re\n",
    "match = re.search('([0-9]+)\\.([0-9]+)\\.([0-9]+)\\.([0-9]+)', \n",
    "       'This is my an abbb string and number 101.111.2112.13')\n",
    "\n",
    "print(match.group(1))\n",
    "for digits in match.groups():\n",
    "    if int(digits) >=0 and int(digits) <= 255:\n",
    "        pass\n",
    "    else:\n",
    "        print('invalid')\n"
   ]
  },
  {
   "cell_type": "code",
   "execution_count": 17,
   "metadata": {},
   "outputs": [
    {
     "name": "stdout",
     "output_type": "stream",
     "text": [
      "Jatin     Password44$$\n",
      "Password is correct\n"
     ]
    }
   ],
   "source": [
    "import re\n",
    "import getpass\n",
    "\n",
    "#password = getpass.getpass()\n",
    "password = input()\n",
    "match1 = re.search('[a-zA-Z]', password)\n",
    "match2 = re.search('[0-9]', password)\n",
    "match3 = re.search('[!@#$%^&*().,+/]', password)\n",
    "\n",
    "if match1 and match2 and match3 and len(password) > 8:\n",
    "    print('Password is correct')\n",
    "else:\n",
    "    print('Incorrect password format')"
   ]
  },
  {
   "cell_type": "code",
   "execution_count": 10,
   "metadata": {},
   "outputs": [],
   "source": [
    "import re\n",
    "\n",
    "def refind(pat, string):\n",
    "    match = re.search(pat, string)\n",
    "    if match:\n",
    "        print(match.group()) # # return what pattern matched in a string\n",
    "    else:\n",
    "       print('Pattern not found..')"
   ]
  },
  {
   "cell_type": "code",
   "execution_count": 22,
   "metadata": {},
   "outputs": [
    {
     "name": "stdout",
     "output_type": "stream",
     "text": [
      "Thi\n",
      "10101\n",
      "111\n",
      "abbbbb\n"
     ]
    }
   ],
   "source": [
    "refind('.{1,3}', 'This is my string and number 101010101010101')\n",
    "refind('[0-9]{1,5}', 'This is my string and number 101010101010101')\n",
    "refind('[0-9]{1,5}', 'This is my string and 111 number 101010101010101')\n",
    "refind('a(bc){1,5}', 'This is mybbbbbbb an abbbbb string and 111 number 101010101010101')"
   ]
  },
  {
   "cell_type": "code",
   "execution_count": 15,
   "metadata": {},
   "outputs": [
    {
     "name": "stdout",
     "output_type": "stream",
     "text": [
      "t\n",
      "1\n",
      "t\n",
      "10\n",
      "10.11.12.13\n",
      " \n",
      "1\n",
      ".\n",
      "Pattern not found..\n"
     ]
    }
   ],
   "source": [
    "string = 'this string contains numbers 101 and IP 10.11.12.13'\n",
    "refind('[a-z]', string)\n",
    "refind('[0-9]', string)\n",
    "refind('[a-z0-9]', string)\n",
    "refind('[0-9][0-9]', string)\n",
    "refind('[0-9][0-9]\\.[0-9][0-9]\\.[0-9][0-9]\\.[0-9][0-9]', string)\n",
    "\n",
    "refind('[^a-z]', string)\n",
    "refind('[^a-z ]', string)\n",
    "refind('[^a-z 0-9A-Z]', string)\n",
    "refind('[^a-z 0-9A-Z.]', string)"
   ]
  },
  {
   "cell_type": "code",
   "execution_count": null,
   "metadata": {},
   "outputs": [],
   "source": [
    "import re\n",
    "string = 'this string contains numbers 101 and IP 10.11.12.13'\n",
    "match = re.search('[]', string)\n",
    "if match:\n",
    "    print(match.group()) # # return what pattern matched in a string\n",
    "else:\n",
    "    print('Pattern not found..')"
   ]
  },
  {
   "cell_type": "code",
   "execution_count": 8,
   "metadata": {},
   "outputs": [
    {
     "name": "stdout",
     "output_type": "stream",
     "text": [
      "Pattern not found..\n"
     ]
    }
   ],
   "source": [
    "import re\n",
    "string = 'this string contains numbers 101 and IP 10.11.12.13'\n",
    "match = re.search('10\\.\\.', string)\n",
    "if match:\n",
    "    print(match.group()) # # return what pattern matched in a string\n",
    "else:\n",
    "    print('Pattern not found..')"
   ]
  },
  {
   "cell_type": "code",
   "execution_count": null,
   "metadata": {},
   "outputs": [],
   "source": [
    "import re\n",
    "\n",
    "string = 'this is my sample string'\n",
    "pattern = re.compile('is', flags=re.I)\n",
    "match = pattern.search(string)\n",
    "if match:\n",
    "    print(match.start()) # at which index pattern starts\n",
    "    print(match.end()) # at which index pattern ends\n",
    "    print(match.group()) # # return what pattern matched in a string\n",
    "    print(match.span()) # start and end index of a pattern\n",
    "else:\n",
    "    print('Pattern not found..')\n",
    "    \n",
    "# pattern are match with the string"
   ]
  },
  {
   "cell_type": "code",
   "execution_count": null,
   "metadata": {},
   "outputs": [],
   "source": [
    "import re\n",
    "\n",
    "string = 'this is my sample string'\n",
    "matches = re.findall('is', string, flags=re.I)\n",
    "print(matches)\n",
    "    \n",
    "# pattern are match with the string"
   ]
  },
  {
   "cell_type": "code",
   "execution_count": null,
   "metadata": {},
   "outputs": [],
   "source": [
    "import re\n",
    "\n",
    "string = 'this is my sample string'\n",
    "matches = re.finditer('is', string, flags=re.I)\n",
    "for match in matches:\n",
    "    if match:\n",
    "        print(match.start()) # at which index pattern starts\n",
    "        print(match.end()) # at which index pattern ends\n",
    "        print(match.group()) # # return what pattern matched in a string\n",
    "        print(match.span()) # start and end index of a pattern\n",
    "    \n",
    "# pattern are match with the string"
   ]
  },
  {
   "cell_type": "code",
   "execution_count": null,
   "metadata": {},
   "outputs": [],
   "source": []
  },
  {
   "cell_type": "code",
   "execution_count": null,
   "metadata": {},
   "outputs": [],
   "source": [
    "import re\n",
    "\n",
    "string = 'this is my sample string'\n",
    "match = re.search('is', string, flags=re.I)\n",
    "if match:\n",
    "    print(match.start()) # at which index pattern starts\n",
    "    print(match.end()) # at which index pattern ends\n",
    "    print(match.group()) # # return what pattern matched in a string\n",
    "    print(match.span()) # start and end index of a pattern\n",
    "else:\n",
    "    print('Pattern not found..')\n",
    "    \n",
    "# pattern are match with the string"
   ]
  },
  {
   "cell_type": "code",
   "execution_count": null,
   "metadata": {},
   "outputs": [],
   "source": [
    "import re\n",
    "\n",
    "string = 'this is my sample string'\n",
    "match = re.match('This', string, flags=re.I)\n",
    "if match:\n",
    "    print(match.start()) # at which index pattern starts\n",
    "    print(match.end()) # at which index pattern ends\n",
    "    print(match.group()) # # return what pattern matched in a string\n",
    "    print(match.span()) # start and end index of a pattern\n",
    "else:\n",
    "    print('Pattern not found..')\n",
    "    \n",
    "# pattern are case sesitive\n"
   ]
  },
  {
   "cell_type": "code",
   "execution_count": null,
   "metadata": {},
   "outputs": [],
   "source": []
  }
 ],
 "metadata": {
  "kernelspec": {
   "display_name": "Python 3",
   "language": "python",
   "name": "python3"
  },
  "language_info": {
   "codemirror_mode": {
    "name": "ipython",
    "version": 3
   },
   "file_extension": ".py",
   "mimetype": "text/x-python",
   "name": "python",
   "nbconvert_exporter": "python",
   "pygments_lexer": "ipython3",
   "version": "3.7.2"
  }
 },
 "nbformat": 4,
 "nbformat_minor": 2
}
