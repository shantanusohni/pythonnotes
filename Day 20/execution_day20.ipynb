{
 "cells": [
  {
   "cell_type": "code",
   "execution_count": 63,
   "metadata": {},
   "outputs": [
    {
     "name": "stdout",
     "output_type": "stream",
     "text": [
      "a3\n"
     ]
    }
   ],
   "source": [
    "import numpy as np\n",
    "\n",
    "dataset = np.array([[10, 15],\n",
    "                    [15, 20], \n",
    "                    [13, 16], \n",
    "                    [16, 19], \n",
    "                    [5, 12], \n",
    "                    [21, 8]])\n",
    "target = np.array([11, 19])\n",
    "labels = np.array(['a1', 'a2', 'a3', 'a4', 'a5', 'a6'])\n",
    "distance = (((dataset - target) ** 2).sum(axis=1)) ** .5\n",
    "print(labels[distance.argmin()])"
   ]
  },
  {
   "cell_type": "code",
   "execution_count": 61,
   "metadata": {},
   "outputs": [
    {
     "name": "stdout",
     "output_type": "stream",
     "text": [
      "[[ 1  5  8]\n",
      " [ 4  0  9]\n",
      " [ 0  7 10]]\n",
      "[2 4 0 1 3 5 6 7 8]\n"
     ]
    }
   ],
   "source": [
    "a1 = np.array([[1,4,0], [5,0,7], [8,9,10]])\n",
    "print(a1.transpose())\n",
    "a1 = a1.flatten()\n",
    "print(a1.argsort())"
   ]
  },
  {
   "cell_type": "code",
   "execution_count": null,
   "metadata": {},
   "outputs": [],
   "source": []
  },
  {
   "cell_type": "code",
   "execution_count": 42,
   "metadata": {},
   "outputs": [
    {
     "name": "stdout",
     "output_type": "stream",
     "text": [
      "[[1 4 0]]\n",
      "[[ 5  0  7]\n",
      " [ 8  9 10]]\n",
      "[5 0 7]\n",
      "[1 4 0]\n",
      "[4 0 9]\n",
      "[ 0  7 10]\n",
      "[ 5 12 27]\n",
      "[14 13 17]\n",
      "[ 8  9 10]\n",
      "[1 0 0]\n",
      "[[ 5  0  7]\n",
      " [ 8  9 10]]\n"
     ]
    }
   ],
   "source": [
    "a1 = np.array([[1,4,0], [5,0,7], [8,9,10]])\n",
    "print(a1[:1])\n",
    "print(a1[1:])\n",
    "print(a1[1,:])\n",
    "print(a1[0,:])\n",
    "print(a1[:,1])\n",
    "print(a1[:,2])\n",
    "print(a1.sum(axis=1))\n",
    "print(a1.sum(axis=0))\n",
    "print(a1.max(axis=0))\n",
    "print(a1.min(axis=0))"
   ]
  },
  {
   "cell_type": "code",
   "execution_count": 38,
   "metadata": {},
   "outputs": [
    {
     "name": "stdout",
     "output_type": "stream",
     "text": [
      "Help on function sum in module numpy:\n",
      "\n",
      "sum(a, axis=None, dtype=None, out=None, keepdims=<no value>, initial=<no value>)\n",
      "    Sum of array elements over a given axis.\n",
      "    \n",
      "    Parameters\n",
      "    ----------\n",
      "    a : array_like\n",
      "        Elements to sum.\n",
      "    axis : None or int or tuple of ints, optional\n",
      "        Axis or axes along which a sum is performed.  The default,\n",
      "        axis=None, will sum all of the elements of the input array.  If\n",
      "        axis is negative it counts from the last to the first axis.\n",
      "    \n",
      "        .. versionadded:: 1.7.0\n",
      "    \n",
      "        If axis is a tuple of ints, a sum is performed on all of the axes\n",
      "        specified in the tuple instead of a single axis or all the axes as\n",
      "        before.\n",
      "    dtype : dtype, optional\n",
      "        The type of the returned array and of the accumulator in which the\n",
      "        elements are summed.  The dtype of `a` is used by default unless `a`\n",
      "        has an integer dtype of less precision than the default platform\n",
      "        integer.  In that case, if `a` is signed then the platform integer\n",
      "        is used while if `a` is unsigned then an unsigned integer of the\n",
      "        same precision as the platform integer is used.\n",
      "    out : ndarray, optional\n",
      "        Alternative output array in which to place the result. It must have\n",
      "        the same shape as the expected output, but the type of the output\n",
      "        values will be cast if necessary.\n",
      "    keepdims : bool, optional\n",
      "        If this is set to True, the axes which are reduced are left\n",
      "        in the result as dimensions with size one. With this option,\n",
      "        the result will broadcast correctly against the input array.\n",
      "    \n",
      "        If the default value is passed, then `keepdims` will not be\n",
      "        passed through to the `sum` method of sub-classes of\n",
      "        `ndarray`, however any non-default value will be.  If the\n",
      "        sub-class' method does not implement `keepdims` any\n",
      "        exceptions will be raised.\n",
      "    initial : scalar, optional\n",
      "        Starting value for the sum. See `~numpy.ufunc.reduce` for details.\n",
      "    \n",
      "        .. versionadded:: 1.15.0\n",
      "    \n",
      "    Returns\n",
      "    -------\n",
      "    sum_along_axis : ndarray\n",
      "        An array with the same shape as `a`, with the specified\n",
      "        axis removed.   If `a` is a 0-d array, or if `axis` is None, a scalar\n",
      "        is returned.  If an output array is specified, a reference to\n",
      "        `out` is returned.\n",
      "    \n",
      "    See Also\n",
      "    --------\n",
      "    ndarray.sum : Equivalent method.\n",
      "    \n",
      "    cumsum : Cumulative sum of array elements.\n",
      "    \n",
      "    trapz : Integration of array values using the composite trapezoidal rule.\n",
      "    \n",
      "    mean, average\n",
      "    \n",
      "    Notes\n",
      "    -----\n",
      "    Arithmetic is modular when using integer types, and no error is\n",
      "    raised on overflow.\n",
      "    \n",
      "    The sum of an empty array is the neutral element 0:\n",
      "    \n",
      "    >>> np.sum([])\n",
      "    0.0\n",
      "    \n",
      "    Examples\n",
      "    --------\n",
      "    >>> np.sum([0.5, 1.5])\n",
      "    2.0\n",
      "    >>> np.sum([0.5, 0.7, 0.2, 1.5], dtype=np.int32)\n",
      "    1\n",
      "    >>> np.sum([[0, 1], [0, 5]])\n",
      "    6\n",
      "    >>> np.sum([[0, 1], [0, 5]], axis=0)\n",
      "    array([0, 6])\n",
      "    >>> np.sum([[0, 1], [0, 5]], axis=1)\n",
      "    array([1, 5])\n",
      "    \n",
      "    If the accumulator is too small, overflow occurs:\n",
      "    \n",
      "    >>> np.ones(128, dtype=np.int8).sum(dtype=np.int8)\n",
      "    -128\n",
      "    \n",
      "    You can also start the sum with a value other than zero:\n",
      "    \n",
      "    >>> np.sum([10], initial=5)\n",
      "    15\n",
      "\n"
     ]
    }
   ],
   "source": [
    "help(np.sum)"
   ]
  },
  {
   "cell_type": "code",
   "execution_count": 31,
   "metadata": {},
   "outputs": [
    {
     "name": "stdout",
     "output_type": "stream",
     "text": [
      "2\n",
      "(2, 3)\n",
      "6\n",
      "2\n",
      "[array([1, 4, 0]), array([5, 0, 7])]\n",
      "[[1, 4, 0], [5, 0, 7]]\n",
      "False\n",
      "True\n",
      "8\n",
      "17\n",
      "2.8333333333333335\n",
      "2.6718699236468995\n",
      "7.138888888888888\n",
      "7\n",
      "0\n",
      "[[0 1 4]\n",
      " [0 5 7]]\n"
     ]
    }
   ],
   "source": [
    "a1 = np.array([[1,4,0], [5,0,7]])\n",
    "print(a1.ndim)\n",
    "print(a1.shape)\n",
    "print(a1.size) # We use np function to get the size\n",
    "print(len(a1)) # We use builtin function to get the size of array\n",
    "print(list(a1)) # Builtin class list to convert into list\n",
    "print(a1.tolist()) # Numpy system call to get the list\n",
    "print(a1.all())\n",
    "print(a1.any())\n",
    "print(a1.itemsize)\n",
    "print(a1.sum())\n",
    "print(a1.mean())\n",
    "print(a1.std())\n",
    "print(a1.var())\n",
    "print(a1.max())\n",
    "print(a1.min())\n",
    "a1.sort()\n",
    "print(a1)"
   ]
  },
  {
   "cell_type": "code",
   "execution_count": 32,
   "metadata": {},
   "outputs": [
    {
     "name": "stdout",
     "output_type": "stream",
     "text": [
      "5\n",
      "2\n",
      "[[2 0 1]\n",
      " [1 0 2]]\n"
     ]
    }
   ],
   "source": [
    "a1 = np.array([[1,4,0], [5,0,7]])\n",
    "print(a1.argmax())\n",
    "print(a1.argmin())\n",
    "print(a1.argsort())"
   ]
  },
  {
   "cell_type": "code",
   "execution_count": 23,
   "metadata": {},
   "outputs": [
    {
     "name": "stdout",
     "output_type": "stream",
     "text": [
      "3\n",
      "4\n",
      "[4 0 2 1 3]\n"
     ]
    }
   ],
   "source": [
    "a1 = np.array([2,5, 3, 10, 0], dtype=float)\n",
    "\n",
    "print(a1.argmax())\n",
    "print(a1.argmin())\n",
    "print(a1.argsort())"
   ]
  },
  {
   "cell_type": "code",
   "execution_count": 28,
   "metadata": {},
   "outputs": [
    {
     "name": "stdout",
     "output_type": "stream",
     "text": [
      "[ 4.  7.  5. 12.  2.]\n",
      "[  4.  25.   9. 100.   0.]\n",
      "[1.  2.5 1.5 5.  0. ]\n",
      "[ 0.  3.  1.  8. -2.]\n",
      "[ 2. 10.  0.]\n",
      "[ 2. 10.  0.]\n"
     ]
    }
   ],
   "source": [
    "print(a1 + 2) # arithmatic \n",
    "print(a1 ** 2) # arithmatic \n",
    "print(a1 / 2) # arithmatic \n",
    "print(a1 - 2) # arithmatic \n",
    "print(a1[a1 % 2 == 0]) # masking\n",
    "mask = a1 % 2 == 0\n",
    "print(a1[mask])"
   ]
  },
  {
   "cell_type": "code",
   "execution_count": null,
   "metadata": {},
   "outputs": [],
   "source": []
  },
  {
   "cell_type": "code",
   "execution_count": 21,
   "metadata": {},
   "outputs": [
    {
     "name": "stdout",
     "output_type": "stream",
     "text": [
      "1\n",
      "(3,)\n",
      "3\n",
      "3\n",
      "[1.0, 2.0, 3.0]\n",
      "[1.0, 2.0, 3.0]\n",
      "True\n",
      "True\n",
      "8\n",
      "6.0\n",
      "2.0\n",
      "0.816496580927726\n",
      "0.6666666666666666\n",
      "3.0\n",
      "1.0\n",
      "[1. 2. 3.]\n"
     ]
    }
   ],
   "source": [
    "# Array and Matrices -\n",
    "# single datatype\n",
    "a1 = np.array([1,2,3], dtype=float)\n",
    "print(a1.ndim)\n",
    "print(a1.shape)\n",
    "print(a1.size) # We use np function to get the size\n",
    "print(len(a1)) # We use builtin function to get the size of array\n",
    "print(list(a1)) # Builtin class list to convert into list\n",
    "print(a1.tolist()) # Numpy system call to get the list\n",
    "print(a1.all())\n",
    "print(a1.any())\n",
    "print(a1.itemsize)\n",
    "print(a1.sum())\n",
    "print(a1.mean())\n",
    "print(a1.std())\n",
    "print(a1.var())\n",
    "print(a1.max())\n",
    "print(a1.min())\n",
    "a1.sort()\n",
    "print(a1)\n",
    "#dir(a1)"
   ]
  },
  {
   "cell_type": "code",
   "execution_count": 4,
   "metadata": {},
   "outputs": [
    {
     "name": "stdout",
     "output_type": "stream",
     "text": [
      "2.4528635169999973\n",
      "0.18315250399999172\n"
     ]
    }
   ],
   "source": [
    "import timeit\n",
    "import numpy as np # Extensive {Python Library - for processing numberical data}\n",
    "\n",
    "py_sec = timeit.timeit('sum(range(1, 10000))', number=10000)\n",
    "np_sec = timeit.timeit('np.sum(np.arange(1, 10000))', \n",
    "                       setup='import numpy as np', number=10000)\n",
    "\n",
    "print(py_sec)\n",
    "print(np_sec)\n"
   ]
  },
  {
   "cell_type": "code",
   "execution_count": null,
   "metadata": {},
   "outputs": [],
   "source": []
  }
 ],
 "metadata": {
  "kernelspec": {
   "display_name": "Python 3",
   "language": "python",
   "name": "python3"
  },
  "language_info": {
   "codemirror_mode": {
    "name": "ipython",
    "version": 3
   },
   "file_extension": ".py",
   "mimetype": "text/x-python",
   "name": "python",
   "nbconvert_exporter": "python",
   "pygments_lexer": "ipython3",
   "version": "3.7.2"
  }
 },
 "nbformat": 4,
 "nbformat_minor": 2
}
