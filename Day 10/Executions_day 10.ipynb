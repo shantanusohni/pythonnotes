{
 "cells": [
  {
   "cell_type": "code",
   "execution_count": 32,
   "metadata": {},
   "outputs": [],
   "source": [
    "abspath = '/Users/jatinmiglani/Dropbox/10th Nov Python PS/Day 10/test.csv'\n",
    "\n",
    "salaries = list()\n",
    "with open(abspath) as infile:\n",
    "    for line in infile:\n",
    "        line = line.strip()\n",
    "        columns = line.split(',')\n",
    "        if columns[3].strip().upper() == 'IT':\n",
    "            salaries.append(int(columns[2].strip()))\n",
    "                \n",
    "avg_salary = sum(salaries)/len(salaries)\n",
    "\n",
    "abspath = '/Users/jatinmiglani/Dropbox/10th Nov Python PS/Day 10/test.txt'\n",
    "with open(abspath, 'a') as infile:\n",
    "    infile.write('Average salary of IT employees are: {} \\n'.format(avg_salary))\n",
    "    infile.writelines(['1\\n', '2\\n', '3\\n'])"
   ]
  },
  {
   "cell_type": "code",
   "execution_count": 27,
   "metadata": {},
   "outputs": [
    {
     "name": "stdout",
     "output_type": "stream",
     "text": [
      "32000.0\n"
     ]
    }
   ],
   "source": [
    "abspath = '/Users/jatinmiglani/Dropbox/10th Nov Python PS/Day 10/test.csv'\n",
    "\n",
    "salaries = list()\n",
    "with open(abspath) as infile:\n",
    "    for line in infile:\n",
    "        line = line.strip()\n",
    "        columns = line.split(',')\n",
    "        if columns[3].strip().upper() == 'IT':\n",
    "            salaries.append(int(columns[2].strip()))\n",
    "                \n",
    "print(sum(salaries)/len(salaries))"
   ]
  },
  {
   "cell_type": "code",
   "execution_count": 24,
   "metadata": {},
   "outputs": [
    {
     "name": "stdout",
     "output_type": "stream",
     "text": [
      "This 9\n",
      "is 9\n",
      "line 9\n",
      "1 1\n",
      "2 1\n",
      "3 1\n",
      "4 1\n",
      "5 1\n",
      "6 1\n",
      "7 1\n",
      "8 1\n",
      "9 1\n"
     ]
    }
   ],
   "source": [
    "abspath = '/Users/jatinmiglani/Dropbox/10th Nov Python PS/Day 10/test.txt'\n",
    "\n",
    "count_words = {}\n",
    "with open(abspath) as infile:\n",
    "    for line in infile:\n",
    "        line = line.strip()\n",
    "        words = line.split()\n",
    "        for word in words:\n",
    "            if word in count_words:\n",
    "                count_words[word] += 1\n",
    "            else:\n",
    "                count_words[word] = 1\n",
    "                \n",
    "for word, count in count_words.items():\n",
    "    print(word, count)\n"
   ]
  },
  {
   "cell_type": "code",
   "execution_count": 22,
   "metadata": {},
   "outputs": [
    {
     "name": "stdout",
     "output_type": "stream",
     "text": [
      "THIS IS LINE 1\n",
      "THIS IS LINE 2\n",
      "THIS IS LINE 3\n",
      "THIS IS LINE 4\n",
      "THIS IS LINE 5\n",
      "THIS IS LINE 6\n",
      "THIS IS LINE 7\n",
      "THIS IS LINE 8\n",
      "THIS IS LINE 9\n",
      "\n"
     ]
    }
   ],
   "source": [
    "abspath = '/Users/jatinmiglani/Dropbox/10th Nov Python PS/Day 10/test.txt'\n",
    "\n",
    "with open(abspath) as infile:\n",
    "    for line in infile:\n",
    "        line = line.strip()\n",
    "        print(line.upper())\n",
    "        "
   ]
  },
  {
   "cell_type": "code",
   "execution_count": 21,
   "metadata": {},
   "outputs": [
    {
     "name": "stdout",
     "output_type": "stream",
     "text": [
      "\n",
      "This is line 9\n",
      "This is line 8\n",
      "This is line 7\n",
      "This is line 6\n",
      "This is line 5\n",
      "This is line 4\n",
      "This is line 3\n",
      "This is line 2\n",
      "This is line 1\n"
     ]
    }
   ],
   "source": [
    "abspath = '/Users/jatinmiglani/Dropbox/10th Nov Python PS/Day 10/test.txt'\n",
    "\n",
    "with open(abspath) as infile:\n",
    "    for line in reversed(infile.readlines()):\n",
    "        line = line.strip()\n",
    "        print(line)"
   ]
  },
  {
   "cell_type": "code",
   "execution_count": 19,
   "metadata": {},
   "outputs": [
    {
     "name": "stdout",
     "output_type": "stream",
     "text": [
      "10 36 136 test.txt\n"
     ]
    }
   ],
   "source": [
    "abspath = '/Users/jatinmiglani/Dropbox/10th Nov Python PS/Day 10/test.txt'\n",
    "\n",
    "total_lines = 0\n",
    "total_words = 0\n",
    "total_characters = 0\n",
    "\n",
    "with open(abspath) as infile:\n",
    "    for line in infile:\n",
    "        total_characters += len(line)\n",
    "        total_lines += 1\n",
    "        line = line.strip()\n",
    "        total_words += len(line.split())\n",
    "\n",
    "print('{} {} {} {}'.format(total_lines, total_words, total_characters, 'test.txt'))\n",
    "    "
   ]
  },
  {
   "cell_type": "code",
   "execution_count": null,
   "metadata": {},
   "outputs": [],
   "source": [
    "abspath = '/Users/jatinmiglani/Dropbox/10th Nov Python PS/Day 10/test.txt'\n",
    "with open(abspath) as infile:\n",
    "    for line in infile:\n",
    "        line = line.strip()\n",
    "        print(line)\n"
   ]
  },
  {
   "cell_type": "code",
   "execution_count": 18,
   "metadata": {},
   "outputs": [
    {
     "name": "stdout",
     "output_type": "stream",
     "text": [
      "This is line 1\n",
      "This is line 2\n",
      "This is line 3\n",
      "This is line 4\n",
      "This is line 5\n",
      "This is line 6\n",
      "This is line 7\n",
      "This is line 8\n",
      "This is line 9\n",
      "\n"
     ]
    }
   ],
   "source": [
    "abspath = '/Users/jatinmiglani/Dropbox/10th Nov Python PS/Day 10/test.txt'\n",
    "infile = open(abspath)\n",
    "\n",
    "for line in infile:\n",
    "    line = line.strip()\n",
    "    print(line)\n",
    "\n",
    "infile.close()"
   ]
  },
  {
   "cell_type": "code",
   "execution_count": 14,
   "metadata": {},
   "outputs": [
    {
     "name": "stdout",
     "output_type": "stream",
     "text": [
      "/Users/jatinmiglani/Dropbox/10th Nov Python PS/Day 10/test.txt\n",
      "r\n",
      "UTF-8\n",
      "['This is line 1\\n', 'This is line 2\\n', 'This is line 3\\n', 'This is line 4\\n', 'This is line 5\\n', 'This is line 6\\n', 'This is line 7\\n', 'This is line 8\\n', 'This is line 9\\n', '\\n']\n"
     ]
    }
   ],
   "source": [
    "abspath = '/Users/jatinmiglani/Dropbox/10th Nov Python PS/Day 10/test.txt'\n",
    "\n",
    "infile = open(abspath)\n",
    "\n",
    "print(infile.name) # Attribute/Data which contains the filename\n",
    "print(infile.mode) # Attribute/Data which contains the filename\n",
    "print(infile.encoding) # Attribute/Data which contains the filename\n",
    "\n",
    "print(infile.readlines())\n",
    "print(infile.read()) # what it returns??\n",
    "# print(infile.readline())\n",
    "# print(infile.readline())\n",
    "# print(infile.readline())\n",
    "# print(infile.read(8)) # first function is read - read return string\n",
    "# print(infile.read(7)) # first function is read - read return string\n",
    "# print(infile.read(15)) # first function is read - read return string\n",
    "# print(infile.read()) # first function is read - read return string\n",
    "\n"
   ]
  },
  {
   "cell_type": "code",
   "execution_count": null,
   "metadata": {},
   "outputs": [],
   "source": []
  }
 ],
 "metadata": {
  "kernelspec": {
   "display_name": "Python 3",
   "language": "python",
   "name": "python3"
  },
  "language_info": {
   "codemirror_mode": {
    "name": "ipython",
    "version": 3
   },
   "file_extension": ".py",
   "mimetype": "text/x-python",
   "name": "python",
   "nbconvert_exporter": "python",
   "pygments_lexer": "ipython3",
   "version": "3.7.2"
  }
 },
 "nbformat": 4,
 "nbformat_minor": 2
}
