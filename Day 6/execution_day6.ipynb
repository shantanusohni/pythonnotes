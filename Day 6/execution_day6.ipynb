{
 "cells": [
  {
   "cell_type": "code",
   "execution_count": 30,
   "metadata": {},
   "outputs": [
    {
     "name": "stdout",
     "output_type": "stream",
     "text": [
      "[2, 3, 5, 7, 11, 13, 17, 19, 23, 29, 31, 37, 41, 43, 47, 53, 59, 61, 67, 71, 73, 79, 83, 89, 97]\n"
     ]
    }
   ],
   "source": [
    "my_list = [i for i in range(2, 100) if all([i % j for j in range(2, i)])]\n",
    "print(my_list)\n",
    "# second using comprehension T\n"
   ]
  },
  {
   "cell_type": "code",
   "execution_count": 22,
   "metadata": {},
   "outputs": [
    {
     "name": "stdout",
     "output_type": "stream",
     "text": [
      "[1, 3, 5, 7, 9]\n"
     ]
    }
   ],
   "source": [
    "my_list = list(range(10)) # first way\n",
    "my_list = [i for i in range(10)] # second using comprehension T\n",
    "\n",
    "my_list = [i for i in range(10) if i % 2] # second using comprehension T\n",
    "\n",
    "print(my_list)"
   ]
  },
  {
   "cell_type": "code",
   "execution_count": 24,
   "metadata": {},
   "outputs": [
    {
     "name": "stdout",
     "output_type": "stream",
     "text": [
      "2,3,5,7,11,13,17,19,23,29,31,37,41,43,47,53,59,61,67,71,73,79,83,89,97,"
     ]
    }
   ],
   "source": [
    "for i in range(2, 100):\n",
    "    for j in range(2, i):\n",
    "        if i % j == 0:\n",
    "            break\n",
    "    else:\n",
    "        print(i, end=',')"
   ]
  },
  {
   "cell_type": "code",
   "execution_count": null,
   "metadata": {},
   "outputs": [],
   "source": []
  },
  {
   "cell_type": "code",
   "execution_count": 14,
   "metadata": {},
   "outputs": [
    {
     "name": "stdout",
     "output_type": "stream",
     "text": [
      "{'This': 1, 'is': 2, 'Python': 1}\n"
     ]
    }
   ],
   "source": [
    "\n",
    "count_digits = dict()\n",
    "for i in ['This', 'is', 'Python', 'is']:\n",
    "    if i in count_digits:\n",
    "        count_digits[i] += 1\n",
    "    else:\n",
    "        count_digits[i] = 1\n",
    "\n",
    "print(count_digits)"
   ]
  },
  {
   "cell_type": "code",
   "execution_count": 13,
   "metadata": {},
   "outputs": [
    {
     "name": "stdout",
     "output_type": "stream",
     "text": [
      "Enter a number: 112134233\n",
      "{'1': 3, '2': 2, '3': 3, '4': 1}\n"
     ]
    }
   ],
   "source": [
    "number = input('Enter a number: ') # str\n",
    "\n",
    "count_digits = dict()\n",
    "for i in number:\n",
    "    if i in count_digits:\n",
    "        count_digits[i] += 1\n",
    "    else:\n",
    "        count_digits[i] = 1\n",
    "\n",
    "print(count_digits)"
   ]
  },
  {
   "cell_type": "code",
   "execution_count": 8,
   "metadata": {},
   "outputs": [
    {
     "name": "stdout",
     "output_type": "stream",
     "text": [
      "Enter a number: 123456543\n",
      "3 1\n"
     ]
    }
   ],
   "source": [
    "number = input('Enter a number: ') # str\n",
    "print(number[-1], number[0])"
   ]
  },
  {
   "cell_type": "code",
   "execution_count": 9,
   "metadata": {},
   "outputs": [
    {
     "name": "stdout",
     "output_type": "stream",
     "text": [
      "Enter a number: 12345\n",
      "6\n"
     ]
    }
   ],
   "source": [
    "number = input('Enter a number: ') # str\n",
    "print(int(number[-1]) + int(number[0]))"
   ]
  },
  {
   "cell_type": "code",
   "execution_count": 10,
   "metadata": {},
   "outputs": [
    {
     "name": "stdout",
     "output_type": "stream",
     "text": [
      "Enter a number: 87654345\n",
      "57654348\n"
     ]
    }
   ],
   "source": [
    "number = input('Enter a number: ') # str\n",
    "print(number[-1] + number[1:-1] + number[0])"
   ]
  },
  {
   "cell_type": "code",
   "execution_count": 12,
   "metadata": {},
   "outputs": [
    {
     "name": "stdout",
     "output_type": "stream",
     "text": [
      "Enter a number: 123\n",
      "6\n"
     ]
    }
   ],
   "source": [
    "number = input('Enter a number: ') # str\n",
    "\n",
    "sum_number = 0\n",
    "for i in number:\n",
    "    sum_number += int(i)\n",
    "print(sum_number)"
   ]
  },
  {
   "cell_type": "code",
   "execution_count": 7,
   "metadata": {},
   "outputs": [
    {
     "name": "stdout",
     "output_type": "stream",
     "text": [
      "0\n",
      "1\n",
      "2\n",
      "3\n",
      "4\n",
      "6\n",
      "7\n",
      "8\n",
      "9\n",
      "All above are natural number\n"
     ]
    }
   ],
   "source": [
    "obj = list(range(10))\n",
    "for i in obj:\n",
    "   if i == 5:\n",
    "    continue\n",
    "   print(i)\n",
    "else:\n",
    "    print('All above are natural number') #??\n"
   ]
  },
  {
   "cell_type": "code",
   "execution_count": null,
   "metadata": {},
   "outputs": [],
   "source": []
  }
 ],
 "metadata": {
  "kernelspec": {
   "display_name": "Python 3",
   "language": "python",
   "name": "python3"
  },
  "language_info": {
   "codemirror_mode": {
    "name": "ipython",
    "version": 3
   },
   "file_extension": ".py",
   "mimetype": "text/x-python",
   "name": "python",
   "nbconvert_exporter": "python",
   "pygments_lexer": "ipython3",
   "version": "3.7.2"
  }
 },
 "nbformat": 4,
 "nbformat_minor": 2
}
