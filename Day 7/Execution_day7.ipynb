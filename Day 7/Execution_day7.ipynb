{
 "cells": [
  {
   "cell_type": "code",
   "execution_count": 19,
   "metadata": {},
   "outputs": [
    {
     "name": "stdout",
     "output_type": "stream",
     "text": [
      "1 2 3\n",
      "(4, 5, 6, 7, 8, 8)\n",
      "{'m': 4, 'n': 5, 'o': 6, 'p': 7, 'i1': 8, 'j1': 9, 'k1': 10}\n"
     ]
    }
   ],
   "source": [
    "def func(i, j, k, *args, **kwargs): # it accept only keywords arguments\n",
    "    print(i, j, k) # values\n",
    "    print(args) # tuple\n",
    "    print(kwargs) # Dict\n",
    "    \n",
    "func(1,2,3,4,5,6,7,8,8, m=4,n=5,o=6,p=7,i1=8,j1=9,k1=10)"
   ]
  },
  {
   "cell_type": "code",
   "execution_count": 17,
   "metadata": {},
   "outputs": [
    {
     "name": "stdout",
     "output_type": "stream",
     "text": [
      "{'a': 1, 'b': 2, 'c': 3}\n",
      "{'a': 1, 'b': 2, 'c': 3, 'd': 4}\n",
      "{'x': 1, 'y': 2, 'z': 3, 'm': 4, 'n': 5, 'o': 6, 'p': 7, 'i': 8, 'j': 9, 'k': 10}\n"
     ]
    }
   ],
   "source": [
    "def func(**kwargs): # it accept only keywords arguments\n",
    "    print(kwargs) # Dict\n",
    "    \n",
    "func(a=1,b=2,c=3)\n",
    "func(a=1,b=2,c=3,d=4)\n",
    "func(x=1,y=2,z=3,m=4,n=5,o=6,p=7,i=8,j=9,k=10)"
   ]
  },
  {
   "cell_type": "code",
   "execution_count": 16,
   "metadata": {},
   "outputs": [
    {
     "name": "stdout",
     "output_type": "stream",
     "text": [
      "1 ()\n",
      "1 (4,)\n",
      "1 (4, 5, 6, 7, 8, 9, 10)\n"
     ]
    }
   ],
   "source": [
    "def func(var, var2, var3, *args): # it accept n number posional arguments\n",
    "    print(var, args) # Tuple\n",
    "    \n",
    "func(1,2,3)\n",
    "func(1,2,3,4)\n",
    "func(1,2,3,4,5,6,7,8,9,10)"
   ]
  },
  {
   "cell_type": "code",
   "execution_count": 13,
   "metadata": {},
   "outputs": [
    {
     "ename": "SyntaxError",
     "evalue": "non-default argument follows default argument (<ipython-input-13-118c02cb0373>, line 1)",
     "output_type": "error",
     "traceback": [
      "\u001b[0;36m  File \u001b[0;32m\"<ipython-input-13-118c02cb0373>\"\u001b[0;36m, line \u001b[0;32m1\u001b[0m\n\u001b[0;31m    def func(var=10, var2): # default parameters\u001b[0m\n\u001b[0m            ^\u001b[0m\n\u001b[0;31mSyntaxError\u001b[0m\u001b[0;31m:\u001b[0m non-default argument follows default argument\n"
     ]
    }
   ],
   "source": [
    "def func(var=10, var2): # default parameters\n",
    "    print('This is statement', var)\n",
    "    print('This is statement', var2)\n",
    "\n",
    "func(10) \n",
    "func(30, 50)\n",
    "\n",
    "# Syntax - Error - Rule 3\n",
    "# We cant have non - Default argument after default argument"
   ]
  },
  {
   "cell_type": "code",
   "execution_count": 10,
   "metadata": {},
   "outputs": [
    {
     "name": "stdout",
     "output_type": "stream",
     "text": [
      "This is statement 10\n",
      "This is statement 20\n",
      "This is statement 10\n",
      "This is statement 20\n",
      "This is statement 10\n",
      "This is statement 20\n"
     ]
    },
    {
     "ename": "TypeError",
     "evalue": "func() got multiple values for argument 'var'",
     "output_type": "error",
     "traceback": [
      "\u001b[0;31m---------------------------------------------------------------------------\u001b[0m",
      "\u001b[0;31mTypeError\u001b[0m                                 Traceback (most recent call last)",
      "\u001b[0;32m<ipython-input-10-6a18ef040b92>\u001b[0m in \u001b[0;36m<module>\u001b[0;34m\u001b[0m\n\u001b[1;32m     11\u001b[0m \u001b[0;34m\u001b[0m\u001b[0m\n\u001b[1;32m     12\u001b[0m \u001b[0;31m# Run-Time Exception\u001b[0m\u001b[0;34m\u001b[0m\u001b[0;34m\u001b[0m\u001b[0;34m\u001b[0m\u001b[0m\n\u001b[0;32m---> 13\u001b[0;31m \u001b[0mfunc\u001b[0m\u001b[0;34m(\u001b[0m\u001b[0;36m10\u001b[0m\u001b[0;34m,\u001b[0m \u001b[0mvar\u001b[0m\u001b[0;34m=\u001b[0m\u001b[0;36m30\u001b[0m\u001b[0;34m,\u001b[0m \u001b[0mvar2\u001b[0m \u001b[0;34m=\u001b[0m \u001b[0;36m20\u001b[0m\u001b[0;34m)\u001b[0m \u001b[0;31m# passing multiple value to an arguments\u001b[0m\u001b[0;34m\u001b[0m\u001b[0;34m\u001b[0m\u001b[0m\n\u001b[0m",
      "\u001b[0;31mTypeError\u001b[0m: func() got multiple values for argument 'var'"
     ]
    }
   ],
   "source": [
    "def func(var, var2): # Var is local to function\n",
    "    print('This is statement', var)\n",
    "    print('This is statement', var2)\n",
    "\n",
    "func(10, 20) # Postional Arguments/parameter\n",
    "func(var=10, var2=20) # Keyword Arguments/parameter\n",
    "func(10, var2=20) # Postional and Keyword Arguments/parameter\n",
    "\n",
    "# Syntax - Error - Rule 1\n",
    "# func(var=10, 20) # We cant have postional paramter after keyword argument\n",
    "\n",
    "# Run-Time Exception - Rule 2\n",
    "func(10, var=30, var2 = 20) # passing multiple value to an arguments\n"
   ]
  },
  {
   "cell_type": "code",
   "execution_count": 5,
   "metadata": {},
   "outputs": [
    {
     "name": "stdout",
     "output_type": "stream",
     "text": [
      "This is statement 10\n",
      "This is statement 2 20\n",
      "20\n"
     ]
    }
   ],
   "source": [
    "var3 = 40 # Global\n",
    "def func(var): # Var is local to function\n",
    "    \"\"\"\n",
    "    This is a help page of a function\n",
    "    whatever you want to define, --define here--\n",
    "    \"\"\"\n",
    "    global var3 # In local space use global ref\n",
    "    var3 = 20 # This var3 is also local to function\n",
    "    print('This is statement', var)\n",
    "    print('This is statement 2', var3)\n",
    "    \n",
    "func(10) # call function func\n",
    "print(var3)"
   ]
  },
  {
   "cell_type": "code",
   "execution_count": null,
   "metadata": {},
   "outputs": [],
   "source": []
  },
  {
   "cell_type": "code",
   "execution_count": null,
   "metadata": {},
   "outputs": [],
   "source": [
    "def func():\n",
    "    \"\"\"\n",
    "    This is a help page of a function\n",
    "    whatever you want to define, --define here--\n",
    "    \"\"\"\n",
    "    print('This is statement 1')\n",
    "    print('This is statement 2')\n",
    "    print('This is statement 3')\n",
    "    return 'Just Checking'\n",
    "    \n",
    "func() # call function func\n",
    "print(func()) # call a function and print return value\n",
    "var = func() # \n",
    "print(var)"
   ]
  },
  {
   "cell_type": "code",
   "execution_count": null,
   "metadata": {},
   "outputs": [],
   "source": [
    "notaprime = {j for i in range(2, 10) for j in range(i*2, 100, i)}\n",
    "prime = [i for i in range(2, 100) if i not in notaprime]\n",
    "\n",
    "print(prime)"
   ]
  },
  {
   "cell_type": "code",
   "execution_count": null,
   "metadata": {},
   "outputs": [],
   "source": [
    "help(print)"
   ]
  },
  {
   "cell_type": "code",
   "execution_count": null,
   "metadata": {},
   "outputs": [],
   "source": [
    "[j for i in ['Python', 'Java'] for j in i if j in 'aeiou']\n",
    "#[j for i in iterable for j in i]"
   ]
  },
  {
   "cell_type": "code",
   "execution_count": null,
   "metadata": {},
   "outputs": [],
   "source": [
    "for i in range(2, 100):\n",
    "    for j in range(2, i):\n",
    "        if i % j == 0:\n",
    "            break\n",
    "    else:\n",
    "        print(i, end=',')"
   ]
  },
  {
   "cell_type": "code",
   "execution_count": null,
   "metadata": {},
   "outputs": [],
   "source": [
    "names = ['Course1', 'Course2', 'Course3', 'Course4', 'Course5']\n",
    "courses = ['Python', 'Java', 'Selenium', 'RPA', 'AWS']\n",
    "\n",
    "print({names[i]:courses[i] for i in range(len(names))})\n",
    "print({i:j for i, j in zip(names, courses)})"
   ]
  },
  {
   "cell_type": "code",
   "execution_count": null,
   "metadata": {},
   "outputs": [],
   "source": [
    "for i, j in list(enumerate({1:2,2: 4})):\n",
    "    print(i, j)"
   ]
  },
  {
   "cell_type": "code",
   "execution_count": null,
   "metadata": {},
   "outputs": [],
   "source": [
    "courses = ['Python', 'Java', 'Selenium', 'RPA', 'AWS']\n",
    "{i:courses[i] for i in range(len(courses))}"
   ]
  },
  {
   "cell_type": "code",
   "execution_count": null,
   "metadata": {},
   "outputs": [],
   "source": [
    "courses = ['Python', 'Java', 'Selenium', 'RPA', 'AWS']\n",
    "{i:j for i, j in enumerate(courses)}"
   ]
  },
  {
   "cell_type": "code",
   "execution_count": null,
   "metadata": {},
   "outputs": [],
   "source": [
    "print({'Course'+ str(i+1):courses[i] for i in range(len(courses))})\n",
    "#{'Course1':'Python', 'Course2':'Java', .......}"
   ]
  },
  {
   "cell_type": "code",
   "execution_count": null,
   "metadata": {},
   "outputs": [],
   "source": [
    "names = ['Course1', 'Course2', 'Course3', 'Course4', 'Course5']\n",
    "courses = ['Python', 'Java', 'Selenium', 'RPA', 'AWS']\n",
    "#{'Course1':'Python', 'Course2':'Java', .......}\n",
    "print({names[i]:courses[i] for i in range(len(names))})"
   ]
  },
  {
   "cell_type": "code",
   "execution_count": null,
   "metadata": {},
   "outputs": [],
   "source": []
  }
 ],
 "metadata": {
  "kernelspec": {
   "display_name": "Python 3",
   "language": "python",
   "name": "python3"
  },
  "language_info": {
   "codemirror_mode": {
    "name": "ipython",
    "version": 3
   },
   "file_extension": ".py",
   "mimetype": "text/x-python",
   "name": "python",
   "nbconvert_exporter": "python",
   "pygments_lexer": "ipython3",
   "version": "3.7.2"
  }
 },
 "nbformat": 4,
 "nbformat_minor": 2
}
