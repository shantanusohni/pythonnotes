{
 "cells": [
  {
   "cell_type": "code",
   "execution_count": null,
   "metadata": {},
   "outputs": [],
   "source": [
    "# Date - Str - strftime\n",
    "# str - Date - strptime"
   ]
  },
  {
   "cell_type": "code",
   "execution_count": 5,
   "metadata": {},
   "outputs": [
    {
     "name": "stdout",
     "output_type": "stream",
     "text": [
      "2019\n",
      "12\n",
      "21\n",
      "True\n"
     ]
    }
   ],
   "source": [
    "from datetime import date\n",
    "today = date.today()\n",
    "my1_date = date(2019, 1, 1) # I am creating a datemyself\n",
    "\n",
    "print(today > my1_date)"
   ]
  },
  {
   "cell_type": "code",
   "execution_count": 8,
   "metadata": {},
   "outputs": [
    {
     "name": "stdout",
     "output_type": "stream",
     "text": [
      "16\n",
      "True\n"
     ]
    }
   ],
   "source": [
    "from datetime import datetime\n",
    "current_date = datetime.now()\n",
    "my_date = datetime(2019, 1, 1, 0, 0, 0, 0) # I am creating a datemyself\n",
    "\n",
    "print(current_date.hour)\n",
    "print(current_date > my_date)"
   ]
  },
  {
   "cell_type": "code",
   "execution_count": 14,
   "metadata": {},
   "outputs": [
    {
     "name": "stdout",
     "output_type": "stream",
     "text": [
      "2019-11-21 16:45:24.812458\n",
      "Thursday\n"
     ]
    }
   ],
   "source": [
    "from datetime import timedelta\n",
    "my_date.strftime('%A')\n",
    "datetime(2020, 11, 22).strftime('%A')\n",
    "\n",
    "print((datetime.now() - timedelta(30)))\n",
    "print((datetime.now() - timedelta(30)).strftime('%A'))"
   ]
  },
  {
   "cell_type": "code",
   "execution_count": 20,
   "metadata": {},
   "outputs": [
    {
     "name": "stdout",
     "output_type": "stream",
     "text": [
      "Tuesday\n"
     ]
    }
   ],
   "source": [
    "from datetime import datetime\n",
    "\n",
    "my_date = '1-Jan-2019'\n",
    "print(datetime.strptime(my_date, '%d-%b-%Y').strftime('%A'))"
   ]
  },
  {
   "cell_type": "code",
   "execution_count": null,
   "metadata": {},
   "outputs": [],
   "source": [
    "import os\n",
    "import time\n",
    "\n",
    "thirty_days = time.time() - 30 * 24 * 60 * 60\n",
    "file_time =  os.path.getmtime('/Users/jatinmiglani/Dropbox/10th Nov Python PS/Python Excercises to start.pdf')\n",
    "\n",
    "if file_time < thirty_days:\n",
    "    print('File is older than 30 days')"
   ]
  },
  {
   "cell_type": "code",
   "execution_count": null,
   "metadata": {},
   "outputs": [],
   "source": [
    "import os\n",
    "import zipfile\n",
    "\n",
    "with zipfile.ZipFile('/Users/jatinmiglani/Dropbox/backup_10thNov.zip','w') as myzip: \n",
    "        main_dir_path = '/Users/jatinmiglani/Dropbox/10th Nov Python PS'\n",
    "        for dir_path, subdirs, filenames in os.walk(main_dir_path):\n",
    "            for file in filenames:\n",
    "                abspath = os.path.join(dir_path, file)\n",
    "                if not abspath.endswith('.wmv'):\n",
    "                    myzip.write(abspath) \n"
   ]
  },
  {
   "cell_type": "code",
   "execution_count": null,
   "metadata": {},
   "outputs": [],
   "source": [
    "import os\n",
    "\n",
    "dir_path = input('Enter a dir path: ')\n",
    "\n",
    "if os.path.isdir(dir_path):\n",
    "    for file in os.listdir(dir_path):\n",
    "        abspath = os.path.join(dir_path, file)\n",
    "        if os.path.isfile(abspath):\n",
    "            if not os.path.getsize(abspath):\n",
    "                print('Removing file {}'.format(abspath))\n",
    "                os.remove(abspath)\n",
    "else:\n",
    "    print('Path is not valid: {}'.format(dir_path))"
   ]
  },
  {
   "cell_type": "code",
   "execution_count": null,
   "metadata": {},
   "outputs": [],
   "source": []
  },
  {
   "cell_type": "code",
   "execution_count": null,
   "metadata": {},
   "outputs": [],
   "source": [
    "import os\n",
    "\n",
    "\n",
    "print(os.getcwd()) # os.getcwd() return current working Dir\n",
    "os.chdir('/Users/jatinmiglani/Dropbox/10th Nov Python PS') # os.chdir() change the directory\n",
    "print(os.getcwd()) # os.getcwd() return current working Dir\n",
    "os.mkdir('Day 11') # os.mkdir() create a new directory\n",
    "# os.system"
   ]
  },
  {
   "cell_type": "code",
   "execution_count": null,
   "metadata": {},
   "outputs": [],
   "source": [
    "from math import factorial, pi, ceil\n",
    "\n",
    "def _factorial(x):\n",
    "    \"\"\"\n",
    "    \n",
    "    \"\"\"    \n",
    "    return x\n",
    "\n",
    "\n",
    "print(factorial(8))\n",
    "print(ceil(8.9))\n",
    "print(pi)"
   ]
  },
  {
   "cell_type": "code",
   "execution_count": null,
   "metadata": {},
   "outputs": [],
   "source": [
    "import math\n",
    "\n",
    "print(math.factorial(5))\n",
    "print(math.factorial(10))\n",
    "print(math.ceil(3.9876))\n",
    "print(math.sqrt(100))"
   ]
  },
  {
   "cell_type": "code",
   "execution_count": null,
   "metadata": {},
   "outputs": [],
   "source": []
  }
 ],
 "metadata": {
  "kernelspec": {
   "display_name": "Python 3",
   "language": "python",
   "name": "python3"
  },
  "language_info": {
   "codemirror_mode": {
    "name": "ipython",
    "version": 3
   },
   "file_extension": ".py",
   "mimetype": "text/x-python",
   "name": "python",
   "nbconvert_exporter": "python",
   "pygments_lexer": "ipython3",
   "version": "3.7.2"
  }
 },
 "nbformat": 4,
 "nbformat_minor": 2
}
