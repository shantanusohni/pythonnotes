{
 "cells": [
  {
   "cell_type": "code",
   "execution_count": 30,
   "metadata": {},
   "outputs": [
    {
     "name": "stdout",
     "output_type": "stream",
     "text": [
      "[30, 20, 17, 11, 10, 9, 6, 5, 1, 0]\n"
     ]
    }
   ],
   "source": [
    "numbers = [10, 1, 0, 11, 6, 5, 9, 20, 30, 17]\n",
    "numbers.sort() # Ascending sort\n",
    "numbers.sort(reverse=True) # decending sort\n",
    "print(numbers)"
   ]
  },
  {
   "cell_type": "code",
   "execution_count": 26,
   "metadata": {},
   "outputs": [
    {
     "name": "stdout",
     "output_type": "stream",
     "text": [
      "[0, 1, 2, 3, 4, 5, 6, 7, 8, 9, [10, 20], 10, 20, 30]\n",
      "10\n",
      "[0, 1, 2, 3, 4, 5, 6, 7, 8, 9, [10, 20], 20]\n"
     ]
    }
   ],
   "source": [
    "numbers = list(range(10))\n",
    "\n",
    "numbers.append([10, 20])\n",
    "numbers.extend([10, 20])\n",
    "numbers.insert(20, 30)\n",
    "print(numbers)\n",
    "print(numbers.pop(11))\n",
    "numbers.remove(30)\n",
    "print(numbers)\n",
    "#print(numbers.count([10, 20]))\n"
   ]
  },
  {
   "cell_type": "code",
   "execution_count": 21,
   "metadata": {},
   "outputs": [
    {
     "name": "stdout",
     "output_type": "stream",
     "text": [
      "I am from Pune Maharastra\n"
     ]
    }
   ],
   "source": [
    "string = 'I am from '\n",
    "words = string.split()\n",
    "words.extend(['Pune', 'Maharastra'])\n",
    "print(' '.join(words))\n"
   ]
  },
  {
   "cell_type": "code",
   "execution_count": null,
   "metadata": {},
   "outputs": [],
   "source": []
  },
  {
   "cell_type": "code",
   "execution_count": 12,
   "metadata": {},
   "outputs": [
    {
     "name": "stdout",
     "output_type": "stream",
     "text": [
      "This|is|a|csv|data\n"
     ]
    }
   ],
   "source": [
    "data = '   This, is, a , csv, data  '\n",
    "words = list(map(lambda x: x.strip(), data.strip().split(',')))\n",
    "print('|'.join(words))"
   ]
  },
  {
   "cell_type": "code",
   "execution_count": 2,
   "metadata": {},
   "outputs": [
    {
     "name": "stdout",
     "output_type": "stream",
     "text": [
      "True\n",
      "False\n",
      "True\n",
      "False\n"
     ]
    }
   ],
   "source": [
    "print('Jatin11'.isalnum())\n",
    "print('Jatin11$$'.isalnum())\n",
    "print('9527354004'.isalnum())\n",
    "print('+91 9527354004'.isalnum())"
   ]
  },
  {
   "cell_type": "code",
   "execution_count": null,
   "metadata": {},
   "outputs": [],
   "source": [
    "help(str.format)"
   ]
  },
  {
   "cell_type": "code",
   "execution_count": 1,
   "metadata": {},
   "outputs": [
    {
     "name": "stdout",
     "output_type": "stream",
     "text": [
      "Hello Mr. Jatin please pay me $10\n",
      "Hello Mr. Jatin please pay me $10\n",
      "Hello Mr. Jatin please pay me $10\n",
      "Hello Mr. Jatin please pay me $10\n",
      "Hello Mr. Jatin please pay me $10\n"
     ]
    }
   ],
   "source": [
    "# Old Style formating - \n",
    "print('Hello Mr. %s please pay me $%d' %('Jatin', 10))\n",
    "print('Hello Mr. {} please pay me ${}'.format('Jatin', 10))\n",
    "print('Hello Mr. {0} please pay me ${1}'.format('Jatin', 10))\n",
    "print('Hello Mr. {name} please pay me ${pay}'.format(name = 'Jatin', pay = 10))\n",
    "print('Hello Mr. {} please pay me ${pay}'.format('Jatin', pay = 10))"
   ]
  },
  {
   "cell_type": "code",
   "execution_count": null,
   "metadata": {},
   "outputs": [],
   "source": []
  },
  {
   "cell_type": "code",
   "execution_count": null,
   "metadata": {},
   "outputs": [],
   "source": [
    "'capitalize', \n",
    "'center', 'count', \n",
    "'endswith',\n",
    "'find', 'format', 'index', \n",
    "'isalnum', 'isalpha', 'istitle', 'isupper', \n",
    "'join', 'ljust', 'lower', 'replace', 'split',\n",
    "'startswith', \n",
    "'strip', 'title', 'upper', 'zfill'"
   ]
  },
  {
   "cell_type": "code",
   "execution_count": null,
   "metadata": {},
   "outputs": [],
   "source": [
    "account = '87654345678987'\n",
    "account[-5:].center(16, 'X')"
   ]
  },
  {
   "cell_type": "code",
   "execution_count": null,
   "metadata": {},
   "outputs": [],
   "source": [
    "list(filter(lambda x: True if all([x % y for y in range(2, x)]) \n",
    "            else False, range(2, 100)))"
   ]
  },
  {
   "cell_type": "code",
   "execution_count": null,
   "metadata": {},
   "outputs": [],
   "source": [
    "list(map(lambda x: x ** 3, range(0, 10)))\n",
    "list(filter(lambda x: x ** 3, range(0, 10)))"
   ]
  },
  {
   "cell_type": "code",
   "execution_count": null,
   "metadata": {},
   "outputs": [],
   "source": [
    "list(map(lambda x, y: (x + y) ** 3, range(1, 10), range(2, 11)))"
   ]
  },
  {
   "cell_type": "code",
   "execution_count": null,
   "metadata": {},
   "outputs": [],
   "source": [
    "cube = lambda x, y: (x * y) ** 3\n",
    "print(cube(2, 2))"
   ]
  },
  {
   "cell_type": "code",
   "execution_count": null,
   "metadata": {},
   "outputs": [],
   "source": []
  }
 ],
 "metadata": {
  "kernelspec": {
   "display_name": "Python 3",
   "language": "python",
   "name": "python3"
  },
  "language_info": {
   "codemirror_mode": {
    "name": "ipython",
    "version": 3
   },
   "file_extension": ".py",
   "mimetype": "text/x-python",
   "name": "python",
   "nbconvert_exporter": "python",
   "pygments_lexer": "ipython3",
   "version": "3.7.2"
  }
 },
 "nbformat": 4,
 "nbformat_minor": 2
}
