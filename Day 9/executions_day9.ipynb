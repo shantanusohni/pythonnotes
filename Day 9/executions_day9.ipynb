{
 "cells": [
  {
   "cell_type": "code",
   "execution_count": null,
   "metadata": {},
   "outputs": [],
   "source": [
    "dir(tuple)"
   ]
  },
  {
   "cell_type": "code",
   "execution_count": null,
   "metadata": {},
   "outputs": [],
   "source": [
    "employee1 = {'name':'Jatin', 'salary':20000}\n",
    "employee2 = {'name':'Rohan', 'salary':10000}\n",
    "employee3 = {'name':'Mohan', 'salary':30000}\n",
    "\n",
    "employees = {1:employee1, 2:employee2, 3:employee3}\n",
    "\n",
    "print(list(employees.items()))\n",
    "\n",
    "#sort this dict - employees, max salary\n",
    "sorted(list(employees.items()), key=lambda x: x[1]['salary'],\n",
    "       reverse=True)[0][1]['name']\n",
    "\n"
   ]
  },
  {
   "cell_type": "code",
   "execution_count": null,
   "metadata": {},
   "outputs": [],
   "source": []
  },
  {
   "cell_type": "code",
   "execution_count": null,
   "metadata": {},
   "outputs": [],
   "source": [
    "employee = {1:{'name':'Jatin', 'age':35}, 2:{'name':'Rahul', 'age':24}, \n",
    "            3:{'name':'Mohan', 'age':37}}\n",
    "print(list(employee.items())) # Object which contains pair of key and value\n",
    "print(list(employee.keys())) # Object which contains pair of keys\n",
    "print(list(employee.values())) # Object which contains pair of keys\n",
    "print(employee.pop(2)) # Object which contains pair of keys\n",
    "print(employee.popitem()) # Object which contains pair of keys"
   ]
  },
  {
   "cell_type": "code",
   "execution_count": null,
   "metadata": {},
   "outputs": [],
   "source": []
  },
  {
   "cell_type": "code",
   "execution_count": null,
   "metadata": {},
   "outputs": [],
   "source": [
    "employee = {1:{'name':'Jatin', 'age':35}, 2:{'name':'Rahul', 'age':24}, \n",
    "            3:{'name':'Mohan', 'age':37}}\n",
    "\n",
    "print(employee.get(1, 'Not available'))\n",
    "print(employee.get(4, 'Not available'))"
   ]
  },
  {
   "cell_type": "code",
   "execution_count": null,
   "metadata": {},
   "outputs": [],
   "source": [
    "'get', \n",
    "'items', \n",
    "'keys', \n",
    "'pop', \n",
    "'popitem', \n",
    "'values'"
   ]
  },
  {
   "cell_type": "code",
   "execution_count": null,
   "metadata": {},
   "outputs": [],
   "source": [
    "employee = [['Jatin', 30000, 'HR'], ['Rohan', 20000, 'IT'], \n",
    "            ['Mohan', 15000, 'IT'], ['Vivek', 15000, 'HR']]\n",
    "\n",
    "sorted(employee, key=lambda x:x[1] if x[2] == 'IT' else 0, reverse=True)[:1]\n"
   ]
  },
  {
   "cell_type": "code",
   "execution_count": null,
   "metadata": {},
   "outputs": [],
   "source": [
    "sorted(employee, key=lambda x:x [1] if x[2] == 'IT' \n",
    "       else max(map(lambda x:x[1] if x[2] == 'IT' else 0, employee)))[:1]"
   ]
  },
  {
   "cell_type": "code",
   "execution_count": null,
   "metadata": {},
   "outputs": [],
   "source": []
  }
 ],
 "metadata": {
  "kernelspec": {
   "display_name": "Python 3",
   "language": "python",
   "name": "python3"
  },
  "language_info": {
   "codemirror_mode": {
    "name": "ipython",
    "version": 3
   },
   "file_extension": ".py",
   "mimetype": "text/x-python",
   "name": "python",
   "nbconvert_exporter": "python",
   "pygments_lexer": "ipython3",
   "version": "3.7.2"
  }
 },
 "nbformat": 4,
 "nbformat_minor": 2
}
