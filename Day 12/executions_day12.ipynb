{
 "cells": [
  {
   "cell_type": "code",
   "execution_count": 1,
   "metadata": {},
   "outputs": [
    {
     "name": "stdout",
     "output_type": "stream",
     "text": [
      "2019 221.2682773109243\n",
      "2018 860.5914634146343\n",
      "2017 853.1969758064512\n",
      "2016 974.8269230769232\n",
      "2015 793.3181451612907\n",
      "2014 457.79938524590165\n",
      "2013 257.52560000000005\n",
      "2012 227.31035856573726\n",
      "2011 150.00445344129548\n",
      "2010 244.3474206349207\n",
      "2009 158.7353305785124\n",
      "2008 123.95772357723577\n",
      "2007 243.25943775100404\n",
      "2006 217.13079999999994\n",
      "2005 181.1693227091633\n",
      "2004 113.50905511811023\n",
      "2003 86.96555118110231\n",
      "2002 105.81454183266936\n",
      "2001 75.41585365853653\n",
      "2000 331.46740000000005\n",
      "1999 414.1584677419355\n",
      "1998 58.63879310344829\n",
      "1997 14.579533678756478\n",
      "1996 31.57464788732394\n",
      "1995 55.992753623188406\n",
      "1994 58.04222222222222\n",
      "1993 22.951612903225808\n",
      "1992 43.01442307692308\n",
      "1991 28.660810810810812\n"
     ]
    }
   ],
   "source": [
    "import requests\n",
    "import json\n",
    "import logging\n",
    "from datetime import datetime\n",
    "import os\n",
    "\n",
    "path = '/Users/jatinmiglani/Dropbox/10th Nov Python PS/Day 12'\n",
    "log_file = os.path.join(path, 'application.log')\n",
    "\n",
    "FORMAT = \"%(levelname)s: %(asctime)-10s  %(message)s\"\n",
    "logging.basicConfig(format=FORMAT, \n",
    "                    level=logging.DEBUG, \n",
    "                    filename=log_file,\n",
    "                    filemode = 'w')\n",
    "\n",
    "year_close = dict()\n",
    "url = 'https://www.quandl.com/api/v3/datasets/BSE/BOM504067.json?api_key=fKXsYh9Qi9ySbS8X6pNh'\n",
    "data = requests.get(url).text\n",
    "dataset = json.loads(data)\n",
    "for row in dataset['dataset'][\"data\"]:\n",
    "        close = float(row[4])\n",
    "        year = datetime.strptime(row[0], '%Y-%m-%d').year\n",
    "        if year in year_close:\n",
    "            year_close[year].append(close)\n",
    "        else:\n",
    "            year_close[year] = list()\n",
    "            year_close[year].append(close)\n",
    "            \n",
    "for year, close in year_close.items():\n",
    "    logging.info('Year {}, Average: {}'.format(year, sum(close)/len(close)))\n",
    "    print(year, sum(close)/len(close)) "
   ]
  },
  {
   "cell_type": "code",
   "execution_count": null,
   "metadata": {},
   "outputs": [],
   "source": [
    "import logging\n",
    "\n",
    "logging.debug('This message is coming from Debug')\n",
    "logging.info('This message is coming from info')\n",
    "logging.warning('This message is coming from warn')\n",
    "logging.error('This message is coming from error')\n",
    "logging.critical('This message is coming from critical')"
   ]
  },
  {
   "cell_type": "code",
   "execution_count": null,
   "metadata": {},
   "outputs": [],
   "source": [
    "import os\n",
    "os.getcwd()"
   ]
  },
  {
   "cell_type": "code",
   "execution_count": null,
   "metadata": {},
   "outputs": [],
   "source": [
    "import os\n",
    "import csv\n",
    "from datetime import datetime\n",
    "import logging\n",
    "\n",
    "path = '/Users/jatinmiglani/Dropbox/10th Nov Python PS/Day 12'\n",
    "log_file = os.path.join(path, 'application.log')\n",
    "FORMAT = \"%(levelname)s: %(asctime)-10s  %(message)s\"\n",
    "logging.basicConfig(format=FORMAT, \n",
    "                    level=logging.WARN, \n",
    "                    filename=log_file,\n",
    "                    filemode = 'w')\n",
    "\n",
    "\n",
    "filename = 'BSE-BOM504067.csv'\n",
    "abspath = os.path.join(path, filename)\n",
    "logging.debug('Start reading file: {}'.format(abspath))\n",
    "\n",
    "year_close = dict()\n",
    "with open(abspath) as csvfile:\n",
    "    reader = csv.DictReader(csvfile)\n",
    "    for row in reader:\n",
    "        logging.debug('Date {}, Close {}'.format(row['Date'], row['Close']))\n",
    "        close = float(row['Close'])\n",
    "        year = datetime.strptime(row['Date'], '%Y-%m-%d').year\n",
    "        logging.debug('Year {}'.format(year))\n",
    "        if year in year_close:\n",
    "            year_close[year].append(close)\n",
    "        else:\n",
    "            year_close[year] = list()\n",
    "            year_close[year].append(close)\n",
    "\n",
    "for year, close in year_close.items():\n",
    "    logging.info('Year {}, Average: {}'.format(year, sum(close)/len(close)))\n",
    "    print(year, sum(close)/len(close))         "
   ]
  },
  {
   "cell_type": "code",
   "execution_count": null,
   "metadata": {},
   "outputs": [],
   "source": []
  }
 ],
 "metadata": {
  "kernelspec": {
   "display_name": "Python 3",
   "language": "python",
   "name": "python3"
  },
  "language_info": {
   "codemirror_mode": {
    "name": "ipython",
    "version": 3
   },
   "file_extension": ".py",
   "mimetype": "text/x-python",
   "name": "python",
   "nbconvert_exporter": "python",
   "pygments_lexer": "ipython3",
   "version": "3.7.2"
  }
 },
 "nbformat": 4,
 "nbformat_minor": 2
}
